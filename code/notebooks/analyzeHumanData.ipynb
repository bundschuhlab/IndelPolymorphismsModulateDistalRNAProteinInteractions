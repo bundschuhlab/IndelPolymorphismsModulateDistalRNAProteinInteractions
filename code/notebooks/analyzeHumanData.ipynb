{
 "cells": [
  {
   "cell_type": "code",
   "execution_count": null,
   "metadata": {},
   "outputs": [],
   "source": [
    "# Copyright (C) <2025>  <The Ohio State University>       \n",
    "\n",
    "# This program is free software: you can redistribute it and/or modify                              \n",
    "# it under the terms of the GNU General Public License as published by \n",
    "# the Free Software Foundation, either version 3 of the License, or    \n",
    "# (at your option) any later version.                                                                                       \n",
    "# This program is distributed in the hope that it will be useful, \n",
    "# but WITHOUT ANY WARRANTY; without even the implied warranty of           \n",
    "# MERCHANTABILITY or FITNESS FOR A PARTICULAR PURPOSE.  See the       \n",
    "# GNU General Public License for more details.                                                                             \n",
    "\n",
    "# You should have received a copy of the GNU General Public License \n",
    "# along with this program.  If not, see <https://www.gnu.org/licenses/>;."
   ]
  },
  {
   "cell_type": "code",
   "execution_count": 10,
   "metadata": {},
   "outputs": [],
   "source": [
    "import sys\n",
    "import numpy as np\n",
    "import math\n",
    "import os"
   ]
  },
  {
   "cell_type": "code",
   "execution_count": null,
   "metadata": {},
   "outputs": [],
   "source": [
    "os.chdir('dataHuman/badSites')"
   ]
  },
  {
   "cell_type": "code",
   "execution_count": 12,
   "metadata": {},
   "outputs": [],
   "source": [
    "infile = open(\"tidiedKdDDG.txt\", \"r\")\n",
    "\n",
    "outfile1 = open(\"averagesDDG.txt\", \"w\")\n",
    "outfile2 = open(\"averagesKD.txt\", \"w\")\n",
    "outfile3 = open(\"variationDDG.txt\", \"w\")\n",
    "outfile4 = open(\"variationKD.txt\", \"w\")\n",
    "\n",
    "# infile = open(\"tidiedKdDDGinMotif.txt\", \"r\")\n",
    "\n",
    "# outfile1 = open(\"averagesinMotifDDG.txt\", \"w\")\n",
    "# outfile2 = open(\"averagesinMotifKD.txt\", \"w\")\n",
    "# outfile3 = open(\"variationinMotifDDG.txt\", \"w\")\n",
    "# outfile4 = open(\"variationinMotifKD.txt\", \"w\")"
   ]
  },
  {
   "cell_type": "code",
   "execution_count": 13,
   "metadata": {},
   "outputs": [],
   "source": [
    "DDGs = [[[] for i in range(45)] for i in range(5) ]\n",
    "KDs = [[[] for i in range(45)] for i in range(5) ]\n",
    "\n",
    "averageDDG = [[] for i in range(5)]\n",
    "variationDDG = [[] for i in range(5)]\n",
    "\n",
    "averageKD = [[] for i in range(5)]\n",
    "variationKD = [[] for i in range(5)]\n",
    "\n",
    "positions = [i-1 for i in range(45)]"
   ]
  },
  {
   "cell_type": "code",
   "execution_count": 14,
   "metadata": {},
   "outputs": [],
   "source": [
    "t = \"\\t\"\n",
    "\n",
    "infile.readline()\n",
    "\n",
    "for line in infile:\n",
    "    fields = line.split()\n",
    "    position = int(fields[0])\n",
    "    kdRatio = fields[1]\n",
    "    DDG = fields[2]\n",
    "    deletionSize = int(fields[3])\n",
    "    \n",
    "    if position > 43:\n",
    "        continue\n",
    "        \n",
    "    if deletionSize<5:\n",
    "        DDGs[deletionSize-1][position+1].append(float(DDG))\n",
    "        KDs[deletionSize-1][position+1].append(float(kdRatio))\n",
    "        \n",
    "    else:\n",
    "        DDGs[4][position+1].append(float(DDG))\n",
    "        KDs[4][position+1].append(float(kdRatio))"
   ]
  },
  {
   "cell_type": "code",
   "execution_count": 15,
   "metadata": {},
   "outputs": [],
   "source": [
    "statsFile = open(\"stats.txt\", \"w\")\n",
    "\n",
    "#statsFile = open(\"statsinMotif.txt\", \"w\")\n",
    "\n",
    "statsHeader =\"\\t\".join([\"deletion_size\"] + [str(i-1) for i in range(45)]+[\"\\n\"])\n",
    "statsFile.write(statsHeader)\n",
    "\n",
    "for i in range(5):\n",
    "    deletions = [\"1del\", \"2dels\", \"3dels\", \"4dels\", \"5to10\"]\n",
    "    statsFile.write(deletions[i]+\"\\t\\t\")\n",
    "    for j in range(45):\n",
    "        statsFile.write(str(len(DDGs[i][j])) + t)\n",
    "    statsFile.write(\"\\n\")\n",
    "    \n",
    "statsFile.close()\n",
    "                        "
   ]
  },
  {
   "cell_type": "code",
   "execution_count": 16,
   "metadata": {},
   "outputs": [],
   "source": [
    "for i in range(5):\n",
    "    for j in range(45):\n",
    "        averageDDG[i].append(np.mean(DDGs[i][j]))\n",
    "        averageKD[i].append(np.mean(KDs[i][j]))\n",
    "\n",
    "        variationDDG[i].append(math.sqrt(np.var(DDGs[i][j])))\n",
    "        variationKD[i].append(math.sqrt(np.var(KDs[i][j])))"
   ]
  },
  {
   "cell_type": "code",
   "execution_count": 17,
   "metadata": {},
   "outputs": [],
   "source": [
    "header = \"# \\t position \\t 1deletion \\t 2deletion \\t 3deletion \\t 4deletion \\t 5to10deletions \\n\"\n",
    "\n",
    "outfile1.write(header)\n",
    "outfile2.write(header)\n",
    "outfile3.write(header)\n",
    "outfile4.write(header)\n",
    "\n",
    "\n",
    "for i in positions:\n",
    "    string1 = str(i) + t + str(averageDDG[0][i]) + t + str(averageDDG[1][i]) + t + str(averageDDG[2][i]) + t + str(averageDDG[3][i]) + t + str(averageDDG[4][i])\n",
    "    string2 = str(i) + t + str(averageKD[0][i]) + t + str(averageKD[1][i]) + t + str(averageKD[2][i]) + t + str(averageKD[3][i]) + t + str(averageKD[4][i])\n",
    "    string3 = str(i) + t + str(variationDDG[0][i]) + t + str(variationDDG[1][i]) + t + str(variationDDG[2][i]) + t + str(variationDDG[3][i]) + t + str(variationDDG[4][i])\n",
    "    string4 = str(i) + t + str(variationKD[0][i]) + t + str(variationKD[1][i]) + t + str(variationKD[2][i]) + t + str(variationKD[3][i]) + t + str(variationKD[4][i])\n",
    "    \n",
    "    outfile1.write(string1 + \"\\n\")\n",
    "    outfile2.write(string2 + \"\\n\")\n",
    "    outfile3.write(string3 + \"\\n\")\n",
    "    outfile4.write(string4 + \"\\n\")"
   ]
  },
  {
   "cell_type": "code",
   "execution_count": 18,
   "metadata": {},
   "outputs": [],
   "source": [
    "infile.close()\n",
    "outfile1.close()\n",
    "outfile2.close()\n",
    "outfile3.close()\n",
    "outfile4.close()"
   ]
  },
  {
   "cell_type": "code",
   "execution_count": null,
   "metadata": {},
   "outputs": [],
   "source": []
  },
  {
   "cell_type": "code",
   "execution_count": null,
   "metadata": {},
   "outputs": [],
   "source": []
  },
  {
   "cell_type": "code",
   "execution_count": null,
   "metadata": {},
   "outputs": [],
   "source": []
  },
  {
   "cell_type": "code",
   "execution_count": null,
   "metadata": {},
   "outputs": [],
   "source": []
  }
 ],
 "metadata": {
  "kernelspec": {
   "display_name": "Python 3 (ipykernel)",
   "language": "python",
   "name": "python3"
  },
  "language_info": {
   "codemirror_mode": {
    "name": "ipython",
    "version": 3
   },
   "file_extension": ".py",
   "mimetype": "text/x-python",
   "name": "python",
   "nbconvert_exporter": "python",
   "pygments_lexer": "ipython3",
   "version": "3.8.9"
  }
 },
 "nbformat": 4,
 "nbformat_minor": 4
}
