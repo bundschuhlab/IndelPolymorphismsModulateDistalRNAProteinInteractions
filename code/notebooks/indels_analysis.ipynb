{
 "cells": [
  {
   "cell_type": "code",
   "execution_count": null,
   "metadata": {},
   "outputs": [],
   "source": [
    "# Copyright (C) <2025>  <The Ohio State University>       \n",
    "\n",
    "# This program is free software: you can redistribute it and/or modify                              \n",
    "# it under the terms of the GNU General Public License as published by \n",
    "# the Free Software Foundation, either version 3 of the License, or    \n",
    "# (at your option) any later version.                                                                                       \n",
    "# This program is distributed in the hope that it will be useful, \n",
    "# but WITHOUT ANY WARRANTY; without even the implied warranty of           \n",
    "# MERCHANTABILITY or FITNESS FOR A PARTICULAR PURPOSE.  See the       \n",
    "# GNU General Public License for more details.                                                                             \n",
    "\n",
    "# You should have received a copy of the GNU General Public License \n",
    "# along with this program.  If not, see <https://www.gnu.org/licenses/>;."
   ]
  },
  {
   "cell_type": "code",
   "execution_count": 65,
   "metadata": {
    "scrolled": true
   },
   "outputs": [],
   "source": [
    "import sys\n",
    "import numpy as np\n",
    "from scipy import stats\n",
    "import math\n",
    "import os"
   ]
  },
  {
   "cell_type": "code",
   "execution_count": null,
   "metadata": {},
   "outputs": [],
   "source": []
  },
  {
   "cell_type": "code",
   "execution_count": 67,
   "metadata": {},
   "outputs": [],
   "source": [
    "#obtain these values from file\n",
    "\n",
    "seq_length = 150\n",
    "footprint = 7\n",
    "omit_region = 50\n",
    "omit_list = [i+1 for i in range(5)] + [5*(i+2) for i in range(9)] \n",
    "iter_variable = 0\n"
   ]
  },
  {
   "cell_type": "code",
   "execution_count": null,
   "metadata": {},
   "outputs": [],
   "source": [
    "infilename = 'dataHuman/likeRandomNoIndels/likeRandom' + str(seq_length) + '.dat'\n",
    "infile = open(infilename, 'r')\n",
    "\n",
    "dev_outfilename = 'dataHuman/likeRandomNoIndels/likeRandom' + str(seq_length) +'_dev.dat'\n",
    "dev_outfile = open(dev_outfilename, 'w')\n",
    "\n",
    "var_outfilename = 'dataHuman/likeRandomNoIndels/likeRandom' + str(seq_length) +'_var.dat'\n",
    "var_outfile = open(var_outfilename, 'w')\n",
    "\n",
    "avg_outfilename = 'dataHuman/likeRandomNoIndels/likeRandom' +  str(seq_length) +'_avg.dat'\n",
    "avg_outfile = open(avg_outfilename, 'w')"
   ]
  },
  {
   "cell_type": "code",
   "execution_count": 69,
   "metadata": {},
   "outputs": [
    {
     "data": {
      "text/plain": [
       "111"
      ]
     },
     "execution_count": 69,
     "metadata": {},
     "output_type": "execute_result"
    }
   ],
   "source": [
    "#writing headers\n",
    "\n",
    "dev_outfile.write(\"# position global\" + \"\".join([\" \"+str(i+1)+\"dels\" for i in range(5)]) + \"\".join([\" \"+str((i+2)*5)+\"dels\" for i in range(9)]) + \"\\n\")\n",
    "var_outfile.write(\"# position global\" + \"\".join([\" \"+str(i+1)+\"dels\" for i in range(5)]) + \"\".join([\" \"+str((i+2)*5)+\"dels\" for i in range(9)]) + \"\\n\")    \n",
    "avg_outfile.write(\"# position global\" + \"\".join([\" \"+str(i+1)+\"dels\" for i in range(5)]) + \"\".join([\" \"+str((i+2)*5)+\"dels\" for i in range(9)]) + \"\\n\")\n"
   ]
  },
  {
   "cell_type": "code",
   "execution_count": 70,
   "metadata": {},
   "outputs": [
    {
     "data": {
      "text/plain": [
       "0"
      ]
     },
     "execution_count": 70,
     "metadata": {},
     "output_type": "execute_result"
    }
   ],
   "source": [
    "#applies to all sets of filtered data\n",
    "first_line = infile.readline()\n",
    "\n",
    "# nts_positions = first_line.split()[1:len(first_line.split())-2]\n",
    "# num_cols = len(first_line.split())-1\n",
    "#data_semi_global = [[[] for i in range(len(omit_list))] for j in range(num_cols-2)]\n",
    "#data_global = [[] for j in range(num_cols-2)]\n",
    "\n",
    "nts_positions = first_line.split()[1:len(first_line.split())-1]\n",
    "num_cols = len(first_line.split())-1\n",
    "data_semi_global = [[[] for i in range(len(omit_list))] for j in range(num_cols-1)]\n",
    "data_global = [[] for j in range(num_cols-1)]\n",
    "\n",
    "\n",
    "infile.seek(0)"
   ]
  },
  {
   "cell_type": "code",
   "execution_count": null,
   "metadata": {},
   "outputs": [],
   "source": []
  },
  {
   "cell_type": "code",
   "execution_count": 71,
   "metadata": {},
   "outputs": [
    {
     "data": {
      "text/plain": [
       "0"
      ]
     },
     "execution_count": 71,
     "metadata": {},
     "output_type": "execute_result"
    }
   ],
   "source": [
    "#listing free energies for sequences with the same number of omissions (can a list contain thousands of items?)\n",
    "\n",
    "# for i in omit_list:\n",
    "    \n",
    "#     infile.seek(0)\n",
    "\n",
    "#     for line in infile:\n",
    "#         fields = line.split()\n",
    "        \n",
    "#         if fields[0] !='#':\n",
    "#             if int(fields[num_cols-2])==i:\n",
    "#                 for k in range(len(fields)-2) :\n",
    "#                     data_semi_global[k][iter_variable].append(float(fields[k]))\n",
    "#     iter_variable+=1\n",
    "                \n",
    "# infile.seek(0)\n",
    "                \n",
    "for i in omit_list:\n",
    "    \n",
    "    infile.seek(0)\n",
    "\n",
    "    for line in infile:\n",
    "        \n",
    "        if line == \"\\n\":\n",
    "            continue\n",
    "        \n",
    "        fields = line.split()\n",
    "        \n",
    "        if fields[0] !='#':\n",
    "            if int(fields[num_cols-1])==i:\n",
    "                for k in range(len(fields)-1) :\n",
    "                    data_semi_global[k][iter_variable].append(float(fields[k]))\n",
    "    iter_variable+=1\n",
    "                \n",
    "infile.seek(0)"
   ]
  },
  {
   "cell_type": "code",
   "execution_count": 72,
   "metadata": {},
   "outputs": [
    {
     "data": {
      "text/plain": [
       "'\\n'"
      ]
     },
     "execution_count": 72,
     "metadata": {},
     "output_type": "execute_result"
    }
   ],
   "source": [
    "line"
   ]
  },
  {
   "cell_type": "code",
   "execution_count": 73,
   "metadata": {},
   "outputs": [
    {
     "data": {
      "text/plain": [
       "0"
      ]
     },
     "execution_count": 73,
     "metadata": {},
     "output_type": "execute_result"
    }
   ],
   "source": [
    "#listing free energies for all sequences\n",
    "    \n",
    "# for line in infile:\n",
    "#     fields = line.split()\n",
    "        \n",
    "#     if fields[0] !='#':\n",
    "#         for k in range(len(fields)-2) :\n",
    "#             data_global[k].append(float(fields[k]))\n",
    "            \n",
    "# infile.seek(0)\n",
    "\n",
    "for line in infile:\n",
    "    if line == \"\\n\":\n",
    "        continue\n",
    "        \n",
    "    fields = line.split()\n",
    "        \n",
    "    if fields[0] !='#':\n",
    "        for k in range(len(fields)-1) :\n",
    "            data_global[k].append(float(fields[k]))\n",
    "            \n",
    "infile.seek(0)"
   ]
  },
  {
   "cell_type": "code",
   "execution_count": null,
   "metadata": {},
   "outputs": [],
   "source": []
  },
  {
   "cell_type": "code",
   "execution_count": 74,
   "metadata": {},
   "outputs": [],
   "source": [
    "\n",
    "\n",
    "mapping = [(i, nts_positions[i]) for i in range(len(data_global))]\n",
    "\n",
    "\n",
    "for x, y in mapping:\n",
    "    \n",
    "    #print(x)\n",
    "    #print(y)\n",
    "   \n",
    "    dev_outfile.write( str(y) + \" \" + str(math.sqrt(np.var(data_global[x])))+ \"\".join([\" \"+str(math.sqrt(np.var(data_semi_global[x][i]))) for i in range(len(omit_list))]) +\" \\n\")\n",
    "    var_outfile.write( str(y) + \" \" + str(np.var(data_global[x]))+ \"\".join([\" \"+str(np.var(data_semi_global[x][i])) for i in range(len(omit_list))]) +\" \\n\")\n",
    "    avg_outfile.write( str(y) + \" \" + str(np.mean(data_global[x]))+ \"\".join([\" \"+str(np.mean(data_semi_global[x][i])) for i in range(len(omit_list))]) +\" \\n\")\n",
    "   \n",
    "    \n",
    "infile.close()\n",
    "dev_outfile.close()\n",
    "var_outfile.close()\n",
    "avg_outfile.close()\n"
   ]
  },
  {
   "cell_type": "code",
   "execution_count": null,
   "metadata": {},
   "outputs": [],
   "source": []
  },
  {
   "cell_type": "code",
   "execution_count": null,
   "metadata": {},
   "outputs": [],
   "source": []
  }
 ],
 "metadata": {
  "kernelspec": {
   "display_name": "Python 3 (ipykernel)",
   "language": "python",
   "name": "python3"
  },
  "language_info": {
   "codemirror_mode": {
    "name": "ipython",
    "version": 3
   },
   "file_extension": ".py",
   "mimetype": "text/x-python",
   "name": "python",
   "nbconvert_exporter": "python",
   "pygments_lexer": "ipython3",
   "version": "3.8.9"
  }
 },
 "nbformat": 4,
 "nbformat_minor": 4
}
