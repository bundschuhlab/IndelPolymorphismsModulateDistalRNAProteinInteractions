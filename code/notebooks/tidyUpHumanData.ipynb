{
 "cells": [
  {
   "cell_type": "code",
   "execution_count": null,
   "metadata": {},
   "outputs": [],
   "source": [
    "# Copyright (C) <2025>  <The Ohio State University>       \n",
    "\n",
    "# This program is free software: you can redistribute it and/or modify                              \n",
    "# it under the terms of the GNU General Public License as published by \n",
    "# the Free Software Foundation, either version 3 of the License, or    \n",
    "# (at your option) any later version.                                                                                       \n",
    "# This program is distributed in the hope that it will be useful, \n",
    "# but WITHOUT ANY WARRANTY; without even the implied warranty of           \n",
    "# MERCHANTABILITY or FITNESS FOR A PARTICULAR PURPOSE.  See the       \n",
    "# GNU General Public License for more details.                                                                             \n",
    "\n",
    "# You should have received a copy of the GNU General Public License \n",
    "# along with this program.  If not, see <https://www.gnu.org/licenses/>;."
   ]
  },
  {
   "cell_type": "code",
   "execution_count": 1,
   "metadata": {},
   "outputs": [],
   "source": [
    "import sys\n",
    "import numpy as np\n",
    "import math\n",
    "import os"
   ]
  },
  {
   "cell_type": "code",
   "execution_count": null,
   "metadata": {},
   "outputs": [],
   "source": [
    "os.chdir('dataHuman/badSites')"
   ]
  },
  {
   "cell_type": "code",
   "execution_count": 3,
   "metadata": {},
   "outputs": [],
   "source": [
    "#obtain these values from file\n",
    "\n",
    "seq_length = 150\n",
    "footprint = 7"
   ]
  },
  {
   "cell_type": "code",
   "execution_count": 4,
   "metadata": {},
   "outputs": [],
   "source": [
    "infile = open(\"KdDDG.txt\", \"r\")\n",
    "outfile1 = open(\"tidiedKdDDG.txt\", \"w\")\n",
    "outfile2 = open(\"tidiedKdDDGinMotif.txt\", \"w\")"
   ]
  },
  {
   "cell_type": "code",
   "execution_count": 5,
   "metadata": {},
   "outputs": [
    {
     "data": {
      "text/plain": [
       "56"
      ]
     },
     "execution_count": 5,
     "metadata": {},
     "output_type": "execute_result"
    }
   ],
   "source": [
    "header=\"distance \\t log(kDRatio) \\t DDG \\t deltionSize \\t bindSite \\n\"\n",
    "outfile1.write(header)\n",
    "outfile2.write(header)"
   ]
  },
  {
   "cell_type": "code",
   "execution_count": 6,
   "metadata": {},
   "outputs": [],
   "source": [
    "t='\\t'\n",
    "\n",
    "infile.readline()\n",
    "\n",
    "for line in infile:\n",
    "    fields = line.split()\n",
    "    \n",
    "    Kd = fields[3]\n",
    "    KdAfterDeletion = fields[10]\n",
    "    kdRatio = float(KdAfterDeletion)/float(Kd)\n",
    "    log_KD_Ratio = str(0.6163207755*math.log(kdRatio))\n",
    "    \n",
    "    BestinMotif = fields[5].split(\":\")[0]\n",
    "    BestinMotifAfterDeletion = fields[12].split(\":\")[0]\n",
    "    \n",
    "    zeroCount = fields[6]\n",
    "    indelLoc = fields[13]\n",
    "    deletionSize = fields[16]\n",
    "    \n",
    "    DDG = fields[19]\n",
    "    bindingSite = fields[20]\n",
    "    \n",
    "    if int(BestinMotif) > int(indelLoc) + int(deletionSize):\n",
    "        distance = int(BestinMotif) - (int(indelLoc) + int(deletionSize)) - 1\n",
    "        \n",
    "    elif int(BestinMotif) < int(indelLoc) - footprint + 1:\n",
    "        distance =  int(indelLoc) - (footprint + int(BestinMotif))\n",
    "     \n",
    "    else: distance = -1\n",
    "\n",
    "#     if int(BestinMotif) > int(indelLoc) + int(deletionSize) and BestinMotif == BestinMotifAfterDeletion+deletionSize:\n",
    "#         distance = int(BestinMotif) - (int(indelLoc) + int(deletionSize)) - 1\n",
    "        \n",
    "#     elif int(BestinMotif) < int(indelLoc) - footprint + 1 and BestinMotif == BestinMotifAfterDeletion:\n",
    "#         distance =  int(indelLoc) - (footprint + int(BestinMotif))\n",
    "        \n",
    "#     elif (int(BestinMotif) > int(indelLoc) + int(deletionSize) and BestinMotif != BestinMotifAfterDeletion+deletionSize) or (int(BestinMotif) < int(indelLoc) - footprint + 1 and BestinMotif != BestinMotifAfterDeletion): \n",
    "#         distance = \"-2\"\n",
    "        \n",
    "#     else: distance = -1\n",
    "        \n",
    "    string = str(distance) + t + log_KD_Ratio + t + DDG + t + deletionSize + t + bindingSite + \"\\n\"\n",
    "    \n",
    "                                       \n",
    "    if bindingSite == \"inMotif\":\n",
    "        outfile2.write(string)\n",
    "        \n",
    "    outfile1.write(string)\n",
    "    "
   ]
  },
  {
   "cell_type": "code",
   "execution_count": 7,
   "metadata": {},
   "outputs": [],
   "source": [
    "infile.close()\n",
    "outfile1.close()\n",
    "outfile2.close()"
   ]
  },
  {
   "cell_type": "code",
   "execution_count": null,
   "metadata": {},
   "outputs": [],
   "source": []
  },
  {
   "cell_type": "code",
   "execution_count": null,
   "metadata": {},
   "outputs": [],
   "source": []
  }
 ],
 "metadata": {
  "kernelspec": {
   "display_name": "Python 3 (ipykernel)",
   "language": "python",
   "name": "python3"
  },
  "language_info": {
   "codemirror_mode": {
    "name": "ipython",
    "version": 3
   },
   "file_extension": ".py",
   "mimetype": "text/x-python",
   "name": "python",
   "nbconvert_exporter": "python",
   "pygments_lexer": "ipython3",
   "version": "3.8.9"
  }
 },
 "nbformat": 4,
 "nbformat_minor": 4
}
